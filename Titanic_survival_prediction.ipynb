{
  "nbformat": 4,
  "nbformat_minor": 0,
  "metadata": {
    "colab": {
      "name": "Titanic_survival_prediction.ipynb",
      "provenance": [],
      "collapsed_sections": [],
      "include_colab_link": true
    },
    "kernelspec": {
      "name": "python3",
      "display_name": "Python 3"
    }
  },
  "cells": [
    {
      "cell_type": "markdown",
      "metadata": {
        "id": "view-in-github",
        "colab_type": "text"
      },
      "source": [
        "<a href=\"https://colab.research.google.com/github/sraghu678/Titanic-survival-prediction/blob/master/Titanic_survival_prediction.ipynb\" target=\"_parent\"><img src=\"https://colab.research.google.com/assets/colab-badge.svg\" alt=\"Open In Colab\"/></a>"
      ]
    },
    {
      "cell_type": "code",
      "metadata": {
        "id": "pm9bpsn_CKzI",
        "colab_type": "code",
        "colab": {
          "base_uri": "https://localhost:8080/",
          "height": 72
        },
        "outputId": "365d519c-6d5c-4d70-c107-1d638f7a9147"
      },
      "source": [
        "# Import Data analysing and visualising libraray\n",
        "import pandas as pd\n",
        "import numpy as np\n",
        "import matplotlib.pyplot as plt\n",
        "import seaborn as sns\n"
      ],
      "execution_count": null,
      "outputs": [
        {
          "output_type": "stream",
          "text": [
            "/usr/local/lib/python3.6/dist-packages/statsmodels/tools/_testing.py:19: FutureWarning: pandas.util.testing is deprecated. Use the functions in the public API at pandas.testing instead.\n",
            "  import pandas.util.testing as tm\n"
          ],
          "name": "stderr"
        }
      ]
    },
    {
      "cell_type": "code",
      "metadata": {
        "id": "m6d_kStDMTXm",
        "colab_type": "code",
        "colab": {}
      },
      "source": [
        "#load the data\n",
        "titanic = sns.load_dataset('titanic')\n",
        "#read the dataset\n",
        "titanic.head(5)"
      ],
      "execution_count": null,
      "outputs": []
    },
    {
      "cell_type": "code",
      "metadata": {
        "id": "pR_oq0pWNXcs",
        "colab_type": "code",
        "colab": {}
      },
      "source": [
        "#count the rows and columns\n",
        "titanic.shape"
      ],
      "execution_count": null,
      "outputs": []
    },
    {
      "cell_type": "code",
      "metadata": {
        "id": "Y1L2oYhMXq_R",
        "colab_type": "code",
        "colab": {}
      },
      "source": [
        "#Characterize the information in dataset\n",
        "titanic.describe()"
      ],
      "execution_count": null,
      "outputs": []
    },
    {
      "cell_type": "code",
      "metadata": {
        "id": "Imv0R6zSYYJ6",
        "colab_type": "code",
        "colab": {}
      },
      "source": [
        "#checking the survived people\n",
        "titanic['survived'].value_counts()"
      ],
      "execution_count": null,
      "outputs": []
    },
    {
      "cell_type": "code",
      "metadata": {
        "id": "oYiOeWUxaYoN",
        "colab_type": "code",
        "colab": {}
      },
      "source": [
        "#draw a plot of survival\n",
        "sns.countplot(titanic['survived'])"
      ],
      "execution_count": null,
      "outputs": []
    },
    {
      "cell_type": "code",
      "metadata": {
        "id": "WiibC9VidU8M",
        "colab_type": "code",
        "colab": {}
      },
      "source": [
        "#visualizing different category of columns\n",
        "col = ['sex', 'who', 'pclass', 'sibsp',\t'parch',\t'embarked']\n",
        "n_rows = 2\n",
        "n_cols = 3\n",
        "\n",
        "#the subplot of grid and figure size of each graph\n",
        "fig, axs = plt.subplots(n_rows, n_cols, figsize = (n_cols * 3.2, n_rows * 3.2) )\n",
        "\n",
        "for r in range(0, n_rows):\n",
        "  for c in range(0, n_cols):\n",
        "    i = r*n_cols + c\n",
        "    ax = axs[r][c]\n",
        "    sns.countplot(titanic[col[i]] , hue = titanic['survived'], ax=ax)\n",
        "    ax.set_title(col[i])\n",
        "    ax.legend(title ='survived', loc = 'upper right')\n",
        "\n",
        "plt.tight_layout()\n",
        "\n"
      ],
      "execution_count": null,
      "outputs": []
    },
    {
      "cell_type": "code",
      "metadata": {
        "id": "k2PeacMomG6x",
        "colab_type": "code",
        "colab": {}
      },
      "source": [
        "#draw a bar plot of survival by sex\n",
        "sns.barplot(x=\"sex\", y=\"survived\", data=titanic)"
      ],
      "execution_count": null,
      "outputs": []
    },
    {
      "cell_type": "code",
      "metadata": {
        "id": "m-RZYHo-m5nk",
        "colab_type": "code",
        "colab": {}
      },
      "source": [
        "#survival rate by sex and class\n",
        "titanic.pivot_table('survived', index = 'sex', columns= 'pclass')"
      ],
      "execution_count": null,
      "outputs": []
    },
    {
      "cell_type": "code",
      "metadata": {
        "id": "pxv0Cl1gn3IL",
        "colab_type": "code",
        "colab": {}
      },
      "source": [
        "#draw a bar plot of survival by sex and class\n",
        "sns.barplot(x='pclass', y='survived', data=titanic)"
      ],
      "execution_count": null,
      "outputs": []
    },
    {
      "cell_type": "code",
      "metadata": {
        "id": "AzEgKbElo6EY",
        "colab_type": "code",
        "colab": {}
      },
      "source": [
        "#survival by sex, class, and age\n",
        "age = pd.cut(titanic['age'], [0,20,80])\n",
        "titanic.pivot_table('survived', ['sex' , 'pclass', age] )\n"
      ],
      "execution_count": null,
      "outputs": []
    },
    {
      "cell_type": "code",
      "metadata": {
        "id": "2dPoFNawrsfM",
        "colab_type": "code",
        "colab": {}
      },
      "source": [
        "#survival based on fare\n",
        "fare = pd.cut(titanic['fare'], [0,50,100,200,300,400,500,600])\n",
        "titanic.pivot_table('survived', [fare] )"
      ],
      "execution_count": null,
      "outputs": []
    },
    {
      "cell_type": "code",
      "metadata": {
        "id": "eGMzEfbhuW0-",
        "colab_type": "code",
        "colab": {}
      },
      "source": [
        "#look up all the value get count\n",
        "for val in titanic:\n",
        "  print(titanic[val].value_counts())\n",
        "  print()\n"
      ],
      "execution_count": null,
      "outputs": []
    },
    {
      "cell_type": "markdown",
      "metadata": {
        "id": "vmRVD-OUvrXz",
        "colab_type": "text"
      },
      "source": [
        "**Here alive, deck, embarked_town, who, class have no use**"
      ]
    },
    {
      "cell_type": "code",
      "metadata": {
        "id": "-2zNjVogvc1a",
        "colab_type": "code",
        "colab": {}
      },
      "source": [
        "#Drop the column\n",
        "titanic = titanic.drop(['alive', 'deck', 'embark_town', 'who', 'class', 'alone', 'adult_male'], axis = 1)\n",
        "#removing the missing values\n",
        "titanic = titanic.dropna(subset= ['embarked', 'age'])"
      ],
      "execution_count": null,
      "outputs": []
    },
    {
      "cell_type": "code",
      "metadata": {
        "id": "JlPOlqxBx-7b",
        "colab_type": "code",
        "colab": {}
      },
      "source": [
        "titanic.shape"
      ],
      "execution_count": null,
      "outputs": []
    },
    {
      "cell_type": "code",
      "metadata": {
        "id": "Cb8gBpmTyJUa",
        "colab_type": "code",
        "colab": {}
      },
      "source": [
        "titanic.dtypes"
      ],
      "execution_count": null,
      "outputs": []
    },
    {
      "cell_type": "code",
      "metadata": {
        "id": "TE4IPoTBz0oh",
        "colab_type": "code",
        "colab": {}
      },
      "source": [
        "#print the unique value in columns\n",
        "\n",
        "print(titanic['sex'].unique())\n",
        "print(titanic['embarked'].unique())"
      ],
      "execution_count": null,
      "outputs": []
    },
    {
      "cell_type": "code",
      "metadata": {
        "id": "lZcJpD8i0qa5",
        "colab_type": "code",
        "colab": {}
      },
      "source": [
        "from sklearn.preprocessing import LabelEncoder\n",
        "labelencoder = LabelEncoder()\n",
        "\n",
        "#encode the sex column\n",
        "titanic.iloc[:, 2] =labelencoder.fit_transform(titanic.iloc[:, 2].values )\n",
        "\n",
        "#encode the embarked column\n",
        "titanic.iloc[:, 7] =labelencoder.fit_transform(titanic.iloc[:, 7].values )\n"
      ],
      "execution_count": null,
      "outputs": []
    },
    {
      "cell_type": "code",
      "metadata": {
        "id": "7_3n3pqM28oK",
        "colab_type": "code",
        "colab": {}
      },
      "source": [
        "#print the unique value in columns\n",
        "\n",
        "print(titanic['sex'].unique())\n",
        "print(titanic['embarked'].unique())"
      ],
      "execution_count": null,
      "outputs": []
    },
    {
      "cell_type": "code",
      "metadata": {
        "id": "1voYRuFk3Eai",
        "colab_type": "code",
        "colab": {}
      },
      "source": [
        "titanic.dtypes"
      ],
      "execution_count": null,
      "outputs": []
    },
    {
      "cell_type": "code",
      "metadata": {
        "id": "wZfes5GS3Jg5",
        "colab_type": "code",
        "colab": {}
      },
      "source": [
        "#split the data\n",
        "X = titanic.iloc[:, 1:8].values\n",
        "Y = titanic.iloc[:, 0].values"
      ],
      "execution_count": null,
      "outputs": []
    },
    {
      "cell_type": "code",
      "metadata": {
        "id": "HZHuSiGV33D9",
        "colab_type": "code",
        "colab": {}
      },
      "source": [
        "#split data into train and test\n",
        "from sklearn.model_selection import train_test_split\n",
        "X_train, X_test, Y_train, Y_test = train_test_split(X, Y,  test_size = 0.2, random_state = 0)"
      ],
      "execution_count": null,
      "outputs": []
    },
    {
      "cell_type": "code",
      "metadata": {
        "id": "YEPQGhmg48rh",
        "colab_type": "code",
        "colab": {}
      },
      "source": [
        "#scale the data\n",
        "from sklearn.preprocessing import StandardScaler\n",
        "sc = StandardScaler()\n",
        "X_train = sc.fit_transform(X_train)\n",
        "X_test = sc.fit_transform(X_test)\n"
      ],
      "execution_count": null,
      "outputs": []
    },
    {
      "cell_type": "code",
      "metadata": {
        "id": "mbEMUW4U6Qo-",
        "colab_type": "code",
        "colab": {}
      },
      "source": [
        "#testing different models\n",
        "def models(X_train, Y_train):\n",
        "  #use logistic regression\n",
        "  from sklearn.linear_model import LogisticRegression\n",
        "\n",
        "  log = LogisticRegression(random_state = 0)\n",
        "  log.fit(X_train, Y_train)\n",
        "\n",
        "  #use Kneighbors\n",
        "  from sklearn.neighbors import KNeighborsClassifier\n",
        "\n",
        "  knn = KNeighborsClassifier(n_neighbors = 5, metric = 'minkowski', p =2)\n",
        "  knn.fit(X_train, Y_train)\n",
        "\n",
        "  # Linear SVC\n",
        "  from sklearn.svm import LinearSVC\n",
        "\n",
        "  linear_svc = LinearSVC()\n",
        "  linear_svc.fit(X_train, Y_train)\n",
        "  #decision tree classifier\n",
        "  from sklearn.tree import DecisionTreeClassifier\n",
        "\n",
        "  tree = DecisionTreeClassifier(criterion = 'entropy', random_state = 0)\n",
        "  tree.fit(X_train, Y_train)\n",
        "\n",
        "  # Gaussian Naive Bayes\n",
        "  from sklearn.naive_bayes import GaussianNB\n",
        "  from sklearn.metrics import accuracy_score\n",
        "\n",
        "  gauss = GaussianNB()\n",
        "  gauss.fit(X_train, Y_train) \n",
        "\n",
        "  # Random Forest\n",
        "  from sklearn.ensemble import RandomForestClassifier\n",
        "\n",
        "  forest = RandomForestClassifier(n_estimators = 10, criterion = 'entropy', random_state = 0)\n",
        "  forest.fit(X_train, Y_train)\n",
        "  #print the accuracy for each model\n",
        "  print(log.score(X_train, Y_train))\n",
        "  print(knn.score(X_train, Y_train))\n",
        "  print(linear_svc.score(X_train, Y_train))\n",
        "  print(tree.score(X_train, Y_train))\n",
        "  print(gauss.score(X_train, Y_train))\n",
        "  print(forest.score(X_train, Y_train))\n",
        "\n",
        "  return log, knn, linear_svc, tree, gauss, forest\n",
        "   "
      ],
      "execution_count": null,
      "outputs": []
    },
    {
      "cell_type": "code",
      "metadata": {
        "id": "vyAQNkuSACjO",
        "colab_type": "code",
        "colab": {}
      },
      "source": [
        "#get and train all of the model\n",
        "model = models(X_train, Y_train)\n"
      ],
      "execution_count": null,
      "outputs": []
    },
    {
      "cell_type": "code",
      "metadata": {
        "id": "pWUj2au4DO5Y",
        "colab_type": "code",
        "colab": {}
      },
      "source": [
        "#show the confusion matrix and test data accuracy\n",
        "\n",
        "from sklearn.metrics import confusion_matrix\n",
        "for i in range( len(model)):\n",
        "  cm = confusion_matrix(Y_test, model[i].predict(X_test)).ravel()\n",
        "  #extract TN, FN, TP, FP\n",
        "  TN, FP, FN, TP = confusion_matrix(Y_test, model[i].predict(X_test)).ravel()\n",
        "  test_score = (TN+TP)/(TP+TN+FN+FP)\n",
        "  print(cm)\n",
        "  print ('Model[{}] Testing Accuracy = \"{}\"'.format(i, test_score))\n",
        "  print()"
      ],
      "execution_count": null,
      "outputs": []
    },
    {
      "cell_type": "markdown",
      "metadata": {
        "id": "H82Oo6St0VG6",
        "colab_type": "text"
      },
      "source": [
        "**Here We find highest accuracy of our by Random Forest Classifier which is 83% on our testing dataset**"
      ]
    },
    {
      "cell_type": "code",
      "metadata": {
        "id": "C_NpU3Ug0N87",
        "colab_type": "code",
        "colab": {}
      },
      "source": [
        "#print the prediction of random forest classifier\n",
        "pred = model[5].predict(X_test)\n",
        "print(pred)\n",
        "print()\n",
        "\n",
        "#print the tested value\n",
        "print(Y_test)\n"
      ],
      "execution_count": null,
      "outputs": []
    },
    {
      "cell_type": "code",
      "metadata": {
        "id": "ZS4AP8Gq2StT",
        "colab_type": "code",
        "colab": {}
      },
      "source": [
        "#finding survival of user defined value\n",
        "\n",
        "survival = [[1, 0, 25, 6, 8, 0, 1 ]]\n",
        "\n",
        "#scaling survial\n",
        "from sklearn.preprocessing import StandardScaler\n",
        "sc = StandardScaler()\n",
        "survival_scaled = sc.fit_transform(survival)\n",
        "\n",
        "#print the survival by random forest classifier\n",
        "pred = model[5].predict(survival_scaled)\n",
        "print(pred)\n",
        "\n",
        "if pred == 0:\n",
        "  print('you can not survive')\n",
        "else:\n",
        "  print('you can survive')\n"
      ],
      "execution_count": null,
      "outputs": []
    },
    {
      "cell_type": "markdown",
      "metadata": {
        "id": "Xpi8N3I_7C_A",
        "colab_type": "text"
      },
      "source": [
        "**Hence the conclusion is that female who sit in 1st and 2'nd has more survival chance**"
      ]
    }
  ]
}